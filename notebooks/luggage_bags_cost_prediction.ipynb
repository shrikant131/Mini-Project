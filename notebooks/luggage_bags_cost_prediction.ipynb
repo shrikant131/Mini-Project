{
 "cells": [
  {
   "cell_type": "markdown",
   "metadata": {},
   "source": [
    "# Luggage Bags Cost Prediction"
   ]
  },
  {
   "cell_type": "markdown",
   "metadata": {},
   "source": [
    "## Import necessary libraries"
   ]
  },
  {
   "cell_type": "code",
   "execution_count": 1,
   "metadata": {},
   "outputs": [],
   "source": [
    "import pandas as pd\n",
    "import numpy as np\n",
    "import matplotlib.pyplot as plt\n",
    "import seaborn as sns\n",
    "from sklearn.model_selection import train_test_split\n",
    "from sklearn.linear_model import LinearRegression\n",
    "from sklearn.metrics import mean_squared_error, r2_score\n",
    "from sklearn.preprocessing import StandardScaler\n",
    "from sklearn.linear_model import SGDRegressor\n",
    "from sklearn.linear_model import Ridge\n",
    "from sklearn.linear_model import Lasso\n",
    "from sklearn.linear_model import MiniBatchKMeans\n",
    "from sklearn.linear_model import GradientBoostingRegressor"
   ]
  },
  {
   "cell_type": "markdown",
   "metadata": {},
   "source": [
    "## Load the dataset"
   ]
  },
  {
   "cell_type": "code",
   "execution_count": 2,
   "metadata": {},
   "outputs": [],
   "source": [
    "data = pd.read_csv('../data/Mini Project Dataset.csv')\n",
    "data.head()"
   ]
  },
  {
   "cell_type": "markdown",
   "metadata": {},
   "source": [
    "## Perform EDA"
   ]
  },
  {
   "cell_type": "code",
   "execution_count": 3,
   "metadata": {},
   "outputs": [],
   "source": [
    "# Check for null values and data types\n",
    "data.info()"
   ]
  },
  {
   "cell_type": "code",
   "execution_count": 4,
   "metadata": {},
   "outputs": [],
   "source": [
    "# Summary statistics\n",
    "data.describe()"
   ]
  },
  {
   "cell_type": "code",
   "execution_count": 5,
   "metadata": {},
   "outputs": [],
   "source": [
    "# Check for null values\n",
    "data.isnull().sum()"
   ]
  },
  {
   "cell_type": "markdown",
   "metadata": {},
   "source": [
    "## Plot various graphs"
   ]
  },
  {
   "cell_type": "code",
   "execution_count": 6,
   "metadata": {},
   "outputs": [],
   "source": [
    "# Plot histograms\n",
    "data.hist(bins=50, figsize=(20,15))\n",
    "plt.show()"
   ]
  },
  {
   "cell_type": "code",
   "execution_count": 7,
   "metadata": {},
   "outputs": [],
   "source": [
    "# Plot box plots\n",
    "plt.figure(figsize=(20,15))\n",
    "sns.boxplot(data=data)\n",
    "plt.show()"
   ]
  },
  {
   "cell_type": "code",
   "execution_count": 8,
   "metadata": {},
   "outputs": [],
   "source": [
    "# Plot pair plots\n",
    "sns.pairplot(data)\n",
    "plt.show()"
   ]
  },
  {
   "cell_type": "code",
   "execution_count": 9,
   "metadata": {},
   "outputs": [],
   "source": [
    "# Plot correlation matrix\n",
    "plt.figure(figsize=(12, 8))\n",
    "sns.heatmap(data.corr(), annot=True, cmap='coolwarm')\n",
    "plt.show()"
   ]
  },
  {
   "cell_type": "markdown",
   "metadata": {},
   "source": [
    "## Prepare data for model building"
   ]
  },
  {
   "cell_type": "code",
   "execution_count": 10,
   "metadata": {},
   "outputs": [],
   "source": [
    "X = data.drop('Cost', axis=1)\n",
    "y = data['Cost']\n",
    "\n",
    "X_train, X_test, y_train, y_test = train_test_split(X, y, test_size=0.2, random_state=42)\n",
    "\n",
    "scaler = StandardScaler()\n",
    "X_train_scaled = scaler.fit_transform(X_train)\n",
    "X_test_scaled = scaler.transform(X_test)"
   ]
  },
  {
   "cell_type": "markdown",
   "metadata": {},
   "source": [
    "## Build and evaluate models"
   ]
  },
  {
   "cell_type": "code",
   "execution_count": 11,
   "metadata": {},
   "outputs": [],
   "source": [
    "# Linear Regression\n",
    "lin_reg = LinearRegression()\n",
    "lin_reg.fit(X_train_scaled, y_train)\n",
    "y_pred_lin = lin_reg.predict(X_test_scaled)\n",
    "r2_lin = r2_score(y_test, y_pred_lin)\n",
    "rmse_lin = np.sqrt(mean_squared_error(y_test, y_pred_lin))\n",
    "mse_lin = mean_squared_error(y_test, y_pred_lin)\n",
    "\n",
    "# SGD Regressor\n",
    "sgd_reg = SGDRegressor(max_iter=1000, tol=1e-3)\n",
    "sgd_reg.fit(X_train_scaled, y_train)\n",
    "y_pred_sgd = sgd_reg.predict(X_test_scaled)\n",
    "r2_sgd = r2_score(y_test, y_pred_sgd)\n",
    "rmse_sgd = np.sqrt(mean_squared_error(y_test, y_pred_sgd))\n",
    "mse_sgd = mean_squared_error(y_test, y_pred_sgd)\n",
    "\n",
    "# Gradient Descent Regressor\n",
    "grad_reg = SGDRegressor(max_iter=1000, tol=1e-3, learning_rate='constant', eta0=0.01)\n",
    "grad_reg.fit(X_train_scaled, y_train)\n",
    "y_pred_grad = grad_reg.predict(X_test_scaled)\n",
    "r2_grad = r2_score(y_test, y_pred_grad)\n",
    "rmse_grad = np.sqrt(mean_squared_error(y_test, y_pred_grad))\n",
    "mse_grad = mean_squared_error(y_test, y_pred_grad)\n",
    "\n",
    "# Mini Batch Gradient Descent\n",
    "mini_batch_reg = SGDRegressor(max_iter=1000, tol=1e-3, learning_rate='constant', eta0=0.01)\n",
    "mini_batch_reg.fit(X_train_scaled, y_train)\n",
    "y_pred_mini_batch = mini_batch_reg.predict(X_test_scaled)\n",
    "r2_mini_batch = r2_score(y_test, y_pred_mini_batch)\n",
    "rmse_mini_batch = np.sqrt(mean_squared_error(y_test, y_pred_mini_batch))\n",
    "mse_mini_batch = mean_squared_error(y_test, y_pred_mini_batch)\n",
    "\n",
    "print(\"Linear Regression: R2 =\", r2_lin, \", RMSE =\", rmse_lin, \", MSE =\", mse_lin)\n",
    "print(\"SGD Regressor: R2 =\", r2_sgd, \", RMSE =\", rmse_sgd, \", MSE =\", mse_sgd)\n",
    "print(\"Gradient Descent Regressor: R2 =\", r2_grad, \", RMSE =\", rmse_grad, \", MSE =\", mse_grad)\n",
    "print(\"Mini Batch Gradient Descent: R2 =\", r2_mini_batch, \", RMSE =\", rmse_mini_batch, \", MSE =\", mse_mini_batch)"
   ]
  },
  {
   "cell_type": "markdown",
   "metadata": {},
   "source": [
    "## Compare results"
   ]
  },
  {
   "cell_type": "markdown",
   "metadata": {},
   "source": [
    "The results of the models are compared based on R squared, RMSE, and MSE values. The model with the highest R squared and lowest RMSE and MSE values is considered the best model for predicting the cost of luggage bags."
   ]
  }
 ],
 "metadata": {
  "kernelspec": {
   "display_name": "Python 3",
   "language": "python",
   "name": "python3"
  },
  "language_info": {
   "codemirror_mode": {
    "name": "ipython",
    "version": 3
   },
   "file_extension": ".py",
   "mimetype": "text/x-python",
   "name": "python",
   "nbconvert_exporter": "python",
   "pygments_lexer": "ipython3"
  }
 },
 "nbformat": 4,
 "nbformat_minor": 4
}
